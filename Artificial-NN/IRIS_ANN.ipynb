{
  "nbformat": 4,
  "nbformat_minor": 0,
  "metadata": {
    "colab": {
      "provenance": [],
      "gpuType": "T4",
      "collapsed_sections": [
        "RPB1-eiy86h9",
        "oymy6_RY9DZd",
        "9_U7pYNu9Iwz",
        "R2SPnvDif2yN",
        "19wHt2fE9Sji",
        "mbz-yl8sfIxk",
        "8EB5w6V99brm",
        "VoCQp7zO9gzT"
      ]
    },
    "kernelspec": {
      "name": "python3",
      "display_name": "Python 3"
    },
    "language_info": {
      "name": "python"
    },
    "accelerator": "GPU"
  },
  "cells": [
    {
      "cell_type": "markdown",
      "source": [
        "# Iris_ANN"
      ],
      "metadata": {
        "id": "RPB1-eiy86h9"
      }
    },
    {
      "cell_type": "markdown",
      "source": [
        "## Libraries"
      ],
      "metadata": {
        "id": "oymy6_RY9DZd"
      }
    },
    {
      "cell_type": "code",
      "execution_count": null,
      "metadata": {
        "colab": {
          "base_uri": "https://localhost:8080/"
        },
        "id": "TSWFKVALBl3w",
        "outputId": "1875173a-9031-41ed-acc2-c9814b4507fb"
      },
      "outputs": [
        {
          "output_type": "stream",
          "name": "stdout",
          "text": [
            "2.3.0+cu121\n"
          ]
        }
      ],
      "source": [
        "import torch\n",
        "print(torch.__version__)"
      ]
    },
    {
      "cell_type": "code",
      "source": [
        "!pip install torchmetrics"
      ],
      "metadata": {
        "colab": {
          "base_uri": "https://localhost:8080/"
        },
        "id": "sBtCAcUaBoDr",
        "outputId": "c191f71b-25b1-4503-ff97-83c31b412977"
      },
      "execution_count": null,
      "outputs": [
        {
          "output_type": "stream",
          "name": "stdout",
          "text": [
            "Collecting torchmetrics\n",
            "  Downloading torchmetrics-1.4.0.post0-py3-none-any.whl (868 kB)\n",
            "\u001b[2K     \u001b[90m━━━━━━━━━━━━━━━━━━━━━━━━━━━━━━━━━━━━━━━━\u001b[0m \u001b[32m868.8/868.8 kB\u001b[0m \u001b[31m5.6 MB/s\u001b[0m eta \u001b[36m0:00:00\u001b[0m\n",
            "\u001b[?25hRequirement already satisfied: numpy>1.20.0 in /usr/local/lib/python3.10/dist-packages (from torchmetrics) (1.25.2)\n",
            "Requirement already satisfied: packaging>17.1 in /usr/local/lib/python3.10/dist-packages (from torchmetrics) (24.1)\n",
            "Requirement already satisfied: torch>=1.10.0 in /usr/local/lib/python3.10/dist-packages (from torchmetrics) (2.3.0+cu121)\n",
            "Collecting lightning-utilities>=0.8.0 (from torchmetrics)\n",
            "  Downloading lightning_utilities-0.11.2-py3-none-any.whl (26 kB)\n",
            "Requirement already satisfied: setuptools in /usr/local/lib/python3.10/dist-packages (from lightning-utilities>=0.8.0->torchmetrics) (67.7.2)\n",
            "Requirement already satisfied: typing-extensions in /usr/local/lib/python3.10/dist-packages (from lightning-utilities>=0.8.0->torchmetrics) (4.12.2)\n",
            "Requirement already satisfied: filelock in /usr/local/lib/python3.10/dist-packages (from torch>=1.10.0->torchmetrics) (3.14.0)\n",
            "Requirement already satisfied: sympy in /usr/local/lib/python3.10/dist-packages (from torch>=1.10.0->torchmetrics) (1.12.1)\n",
            "Requirement already satisfied: networkx in /usr/local/lib/python3.10/dist-packages (from torch>=1.10.0->torchmetrics) (3.3)\n",
            "Requirement already satisfied: jinja2 in /usr/local/lib/python3.10/dist-packages (from torch>=1.10.0->torchmetrics) (3.1.4)\n",
            "Requirement already satisfied: fsspec in /usr/local/lib/python3.10/dist-packages (from torch>=1.10.0->torchmetrics) (2023.6.0)\n",
            "Collecting nvidia-cuda-nvrtc-cu12==12.1.105 (from torch>=1.10.0->torchmetrics)\n",
            "  Using cached nvidia_cuda_nvrtc_cu12-12.1.105-py3-none-manylinux1_x86_64.whl (23.7 MB)\n",
            "Collecting nvidia-cuda-runtime-cu12==12.1.105 (from torch>=1.10.0->torchmetrics)\n",
            "  Using cached nvidia_cuda_runtime_cu12-12.1.105-py3-none-manylinux1_x86_64.whl (823 kB)\n",
            "Collecting nvidia-cuda-cupti-cu12==12.1.105 (from torch>=1.10.0->torchmetrics)\n",
            "  Using cached nvidia_cuda_cupti_cu12-12.1.105-py3-none-manylinux1_x86_64.whl (14.1 MB)\n",
            "Collecting nvidia-cudnn-cu12==8.9.2.26 (from torch>=1.10.0->torchmetrics)\n",
            "  Using cached nvidia_cudnn_cu12-8.9.2.26-py3-none-manylinux1_x86_64.whl (731.7 MB)\n",
            "Collecting nvidia-cublas-cu12==12.1.3.1 (from torch>=1.10.0->torchmetrics)\n",
            "  Using cached nvidia_cublas_cu12-12.1.3.1-py3-none-manylinux1_x86_64.whl (410.6 MB)\n",
            "Collecting nvidia-cufft-cu12==11.0.2.54 (from torch>=1.10.0->torchmetrics)\n",
            "  Using cached nvidia_cufft_cu12-11.0.2.54-py3-none-manylinux1_x86_64.whl (121.6 MB)\n",
            "Collecting nvidia-curand-cu12==10.3.2.106 (from torch>=1.10.0->torchmetrics)\n",
            "  Using cached nvidia_curand_cu12-10.3.2.106-py3-none-manylinux1_x86_64.whl (56.5 MB)\n",
            "Collecting nvidia-cusolver-cu12==11.4.5.107 (from torch>=1.10.0->torchmetrics)\n",
            "  Using cached nvidia_cusolver_cu12-11.4.5.107-py3-none-manylinux1_x86_64.whl (124.2 MB)\n",
            "Collecting nvidia-cusparse-cu12==12.1.0.106 (from torch>=1.10.0->torchmetrics)\n",
            "  Using cached nvidia_cusparse_cu12-12.1.0.106-py3-none-manylinux1_x86_64.whl (196.0 MB)\n",
            "Collecting nvidia-nccl-cu12==2.20.5 (from torch>=1.10.0->torchmetrics)\n",
            "  Using cached nvidia_nccl_cu12-2.20.5-py3-none-manylinux2014_x86_64.whl (176.2 MB)\n",
            "Collecting nvidia-nvtx-cu12==12.1.105 (from torch>=1.10.0->torchmetrics)\n",
            "  Using cached nvidia_nvtx_cu12-12.1.105-py3-none-manylinux1_x86_64.whl (99 kB)\n",
            "Requirement already satisfied: triton==2.3.0 in /usr/local/lib/python3.10/dist-packages (from torch>=1.10.0->torchmetrics) (2.3.0)\n",
            "Collecting nvidia-nvjitlink-cu12 (from nvidia-cusolver-cu12==11.4.5.107->torch>=1.10.0->torchmetrics)\n",
            "  Downloading nvidia_nvjitlink_cu12-12.5.40-py3-none-manylinux2014_x86_64.whl (21.3 MB)\n",
            "\u001b[2K     \u001b[90m━━━━━━━━━━━━━━━━━━━━━━━━━━━━━━━━━━━━━━━━\u001b[0m \u001b[32m21.3/21.3 MB\u001b[0m \u001b[31m42.5 MB/s\u001b[0m eta \u001b[36m0:00:00\u001b[0m\n",
            "\u001b[?25hRequirement already satisfied: MarkupSafe>=2.0 in /usr/local/lib/python3.10/dist-packages (from jinja2->torch>=1.10.0->torchmetrics) (2.1.5)\n",
            "Requirement already satisfied: mpmath<1.4.0,>=1.1.0 in /usr/local/lib/python3.10/dist-packages (from sympy->torch>=1.10.0->torchmetrics) (1.3.0)\n",
            "Installing collected packages: nvidia-nvtx-cu12, nvidia-nvjitlink-cu12, nvidia-nccl-cu12, nvidia-curand-cu12, nvidia-cufft-cu12, nvidia-cuda-runtime-cu12, nvidia-cuda-nvrtc-cu12, nvidia-cuda-cupti-cu12, nvidia-cublas-cu12, lightning-utilities, nvidia-cusparse-cu12, nvidia-cudnn-cu12, nvidia-cusolver-cu12, torchmetrics\n",
            "Successfully installed lightning-utilities-0.11.2 nvidia-cublas-cu12-12.1.3.1 nvidia-cuda-cupti-cu12-12.1.105 nvidia-cuda-nvrtc-cu12-12.1.105 nvidia-cuda-runtime-cu12-12.1.105 nvidia-cudnn-cu12-8.9.2.26 nvidia-cufft-cu12-11.0.2.54 nvidia-curand-cu12-10.3.2.106 nvidia-cusolver-cu12-11.4.5.107 nvidia-cusparse-cu12-12.1.0.106 nvidia-nccl-cu12-2.20.5 nvidia-nvjitlink-cu12-12.5.40 nvidia-nvtx-cu12-12.1.105 torchmetrics-1.4.0.post0\n"
          ]
        }
      ]
    },
    {
      "cell_type": "code",
      "source": [
        "import torch.nn as nn\n",
        "import torch.optim as optim\n",
        "from torchsummary import summary\n",
        "from torch.utils.data import Dataset, DataLoader, SubsetRandomSampler\n",
        "import torchmetrics\n",
        "\n",
        "import matplotlib.pyplot as plt\n",
        "\n",
        "import seaborn as sns\n",
        "import pandas as pd\n",
        "import numpy as np\n",
        "\n",
        "from sklearn.metrics import classification_report, confusion_matrix, ConfusionMatrixDisplay\n",
        "\n",
        "import warnings\n",
        "warnings.filterwarnings(\"ignore\")\n",
        "\n",
        "from sklearn.datasets import load_iris\n",
        "from sklearn.model_selection import train_test_split\n",
        "from sklearn.preprocessing import StandardScaler"
      ],
      "metadata": {
        "id": "efXhAzPsBnoA"
      },
      "execution_count": null,
      "outputs": []
    },
    {
      "cell_type": "markdown",
      "source": [
        "## Data-Visualisation & Pre-Processing"
      ],
      "metadata": {
        "id": "9_U7pYNu9Iwz"
      }
    },
    {
      "cell_type": "code",
      "source": [
        "# Load the Iris dataset\n",
        "iris = load_iris()\n",
        "X, y = iris.data, iris.target\n",
        "class_names = iris.target_names"
      ],
      "metadata": {
        "id": "flAjAW8MBz2K"
      },
      "execution_count": null,
      "outputs": []
    },
    {
      "cell_type": "code",
      "source": [
        "X.shape, y.shape"
      ],
      "metadata": {
        "colab": {
          "base_uri": "https://localhost:8080/"
        },
        "id": "VSWXmQ4NCR4V",
        "outputId": "91308e05-fe2d-4cd5-fa8a-573f7c05e2db"
      },
      "execution_count": null,
      "outputs": [
        {
          "output_type": "execute_result",
          "data": {
            "text/plain": [
              "((150, 4), (150,))"
            ]
          },
          "metadata": {},
          "execution_count": 87
        }
      ]
    },
    {
      "cell_type": "code",
      "source": [
        "# Convert to PyTorch tensors\n",
        "X = torch.tensor(X, dtype=torch.float32)\n",
        "y = torch.tensor(y, dtype=torch.long)"
      ],
      "metadata": {
        "id": "hcCWXXhkCUmH"
      },
      "execution_count": null,
      "outputs": []
    },
    {
      "cell_type": "code",
      "source": [
        "# Split the data into training and test sets\n",
        "X_train, X_test, y_train, y_test = train_test_split(X, y, test_size=0.2, random_state=42)"
      ],
      "metadata": {
        "id": "dI_JJUDVCjaB"
      },
      "execution_count": null,
      "outputs": []
    },
    {
      "cell_type": "code",
      "source": [
        "X_train.shape, X_test.shape, y_train.shape, y_test.shape"
      ],
      "metadata": {
        "colab": {
          "base_uri": "https://localhost:8080/"
        },
        "id": "ZrwxfwnMEjvd",
        "outputId": "9d185651-0553-46ed-bec2-86bb297cea4a"
      },
      "execution_count": null,
      "outputs": [
        {
          "output_type": "execute_result",
          "data": {
            "text/plain": [
              "(torch.Size([120, 4]),\n",
              " torch.Size([30, 4]),\n",
              " torch.Size([120]),\n",
              " torch.Size([30]))"
            ]
          },
          "metadata": {},
          "execution_count": 90
        }
      ]
    },
    {
      "cell_type": "code",
      "source": [
        "# Standardize the features\n",
        "scaler = StandardScaler()\n",
        "X_train = scaler.fit_transform(X_train)\n",
        "X_test = scaler.transform(X_test)"
      ],
      "metadata": {
        "id": "JMZGtodnCls9"
      },
      "execution_count": null,
      "outputs": []
    },
    {
      "cell_type": "code",
      "source": [
        "# Create a custom Dataset class\n",
        "class IrisDataset(Dataset):\n",
        "    def __init__(self, features, labels):\n",
        "        self.features = features\n",
        "        self.labels = labels\n",
        "\n",
        "    def __len__(self):\n",
        "        return len(self.features)\n",
        "\n",
        "    def __getitem__(self, idx):\n",
        "        return self.features[idx], self.labels[idx]"
      ],
      "metadata": {
        "id": "ooMcjw23CtHR"
      },
      "execution_count": null,
      "outputs": []
    },
    {
      "cell_type": "code",
      "source": [
        "# Create Dataset objects\n",
        "train_dataset = IrisDataset(X_train, y_train)\n",
        "test_dataset = IrisDataset(X_test, y_test)"
      ],
      "metadata": {
        "id": "pu9Pv45mDGi8"
      },
      "execution_count": null,
      "outputs": []
    },
    {
      "cell_type": "code",
      "source": [
        "# Define indices\n",
        "indices = list(range(train_dataset.features.shape[0]))\n",
        "\n",
        "# Random shuffling of indices\n",
        "np.random.shuffle(indices)\n",
        "\n",
        "# Split indices for validation and test\n",
        "val_idx, train_idx= indices[:20], indices[20:]"
      ],
      "metadata": {
        "id": "eRrQgOg6DXvU"
      },
      "execution_count": null,
      "outputs": []
    },
    {
      "cell_type": "code",
      "source": [
        "# Define samplers\n",
        "train_sampler = SubsetRandomSampler(train_idx)\n",
        "val_sampler = SubsetRandomSampler(val_idx)\n",
        "\n",
        "# Define data loaders\n",
        "train_loader = DataLoader(train_dataset, batch_size=16, sampler=train_sampler)\n",
        "val_loader = DataLoader(train_dataset, batch_size=16, sampler=val_sampler)\n",
        "test_loader = DataLoader(test_dataset, batch_size=16, shuffle=False)\n",
        "\n",
        "# Check the size of each set\n",
        "print(f\"Number of training examples: {len(train_loader.sampler)}\")\n",
        "print(f\"Number of validation examples: {len(val_loader.sampler)}\")\n",
        "print(f\"Number of test examples: {len(test_loader.sampler)}\")"
      ],
      "metadata": {
        "colab": {
          "base_uri": "https://localhost:8080/"
        },
        "id": "6L05c38tEoPx",
        "outputId": "7666637d-0b68-4a7c-8a20-9135787c8ecb"
      },
      "execution_count": null,
      "outputs": [
        {
          "output_type": "stream",
          "name": "stdout",
          "text": [
            "Number of training examples: 100\n",
            "Number of validation examples: 20\n",
            "Number of test examples: 30\n"
          ]
        }
      ]
    },
    {
      "cell_type": "code",
      "source": [
        "def get_classes_distribution(data_loader):\n",
        "    label_counts = {}\n",
        "\n",
        "    # Iterate over the DataLoader to collect the labels\n",
        "    for _, labels in data_loader:\n",
        "        for label in labels:\n",
        "            label = label.item()\n",
        "            if label in label_counts:\n",
        "                label_counts[label] += 1\n",
        "            else:\n",
        "                label_counts[label] = 1\n",
        "\n",
        "    # Get total number of samples\n",
        "    total_samples = sum(label_counts.values())\n",
        "\n",
        "    # Print the count and percentage for each label\n",
        "    for label, count in label_counts.items():\n",
        "        percent = (count / total_samples) * 100\n",
        "        print(\"{}:   {} or {:.2f}%\".format(label, count, percent))\n",
        "\n",
        "get_classes_distribution(train_loader)"
      ],
      "metadata": {
        "colab": {
          "base_uri": "https://localhost:8080/"
        },
        "id": "mVGKCvpIE2ly",
        "outputId": "79a3d573-07e5-42ee-dce2-bfd8ef9ae51e"
      },
      "execution_count": null,
      "outputs": [
        {
          "output_type": "stream",
          "name": "stdout",
          "text": [
            "2:   35 or 35.00%\n",
            "1:   30 or 30.00%\n",
            "0:   35 or 35.00%\n"
          ]
        }
      ]
    },
    {
      "cell_type": "code",
      "source": [
        "def plot_class_distribution(data_loader):\n",
        "    # Collect all labels from the DataLoader\n",
        "    all_labels = []\n",
        "    for _, labels in data_loader:\n",
        "        all_labels.extend(labels.numpy())  # Assuming labels are tensors, convert to numpy\n",
        "\n",
        "    # Convert the labels to a pandas DataFrame\n",
        "    labels_df = pd.DataFrame(all_labels, columns=['label'])\n",
        "\n",
        "    # Plot the distribution using Seaborn\n",
        "    f, ax = plt.subplots(1, 1, figsize=(8, 6))\n",
        "    g = sns.countplot(data=labels_df, x='label', palette='viridis', ax=ax)\n",
        "    g.set_title(\"Number of labels for each class\")\n",
        "    plt.show()\n",
        "\n",
        "# Example usage with your DataLoader\n",
        "plot_class_distribution(train_loader)"
      ],
      "metadata": {
        "colab": {
          "base_uri": "https://localhost:8080/",
          "height": 564
        },
        "id": "acVSLD1zE8Vn",
        "outputId": "e1bc3205-2747-4786-f4ed-d01396dfe82f"
      },
      "execution_count": null,
      "outputs": [
        {
          "output_type": "display_data",
          "data": {
            "text/plain": [
              "<Figure size 800x600 with 1 Axes>"
            ],
            "image/png": "[encoded data removed]"
          },
          "metadata": {}
        }
      ]
    },
    {
      "cell_type": "markdown",
      "source": [
        "## Device Agnostics"
      ],
      "metadata": {
        "id": "R2SPnvDif2yN"
      }
    },
    {
      "cell_type": "code",
      "source": [
        "# Check for GPU availability\n",
        "device = \"cuda\" if torch.cuda.is_available() else \"cpu\"\n",
        "device"
      ],
      "metadata": {
        "colab": {
          "base_uri": "https://localhost:8080/",
          "height": 36
        },
        "id": "sT3Izo0bf6Jm",
        "outputId": "89cc34c2-7cc4-404a-9dcc-7d0f94e63662"
      },
      "execution_count": null,
      "outputs": [
        {
          "output_type": "execute_result",
          "data": {
            "text/plain": [
              "'cuda'"
            ],
            "application/vnd.google.colaboratory.intrinsic+json": {
              "type": "string"
            }
          },
          "metadata": {},
          "execution_count": 98
        }
      ]
    },
    {
      "cell_type": "markdown",
      "source": [
        "## Explicit EarlyStopping"
      ],
      "metadata": {
        "id": "19wHt2fE9Sji"
      }
    },
    {
      "cell_type": "code",
      "source": [
        "class EarlyStopping:\n",
        "    def __init__(self, patience=7, verbose=False, delta=0):\n",
        "        self.patience = patience\n",
        "        self.verbose = verbose\n",
        "        self.delta = delta\n",
        "        self.counter = 0\n",
        "        self.best_score = None\n",
        "        self.early_stop = False\n",
        "        self.val_loss_min = np.Inf\n",
        "\n",
        "    def __call__(self, val_loss):\n",
        "        score = -val_loss\n",
        "\n",
        "        if self.best_score is None:\n",
        "            self.best_score = score\n",
        "        elif score < self.best_score + self.delta:\n",
        "            self.counter += 1\n",
        "            if self.verbose:\n",
        "                print(f'EarlyStopping counter: {self.counter} out of {self.patience}')\n",
        "            if self.counter >= self.patience:\n",
        "                self.early_stop = True\n",
        "        else:\n",
        "            self.best_score = score\n",
        "            self.counter = 0"
      ],
      "metadata": {
        "id": "Iiz24Gne2KXh"
      },
      "execution_count": null,
      "outputs": []
    },
    {
      "cell_type": "markdown",
      "source": [
        "## Model-Architecture"
      ],
      "metadata": {
        "id": "mbz-yl8sfIxk"
      }
    },
    {
      "cell_type": "code",
      "source": [
        "# Define the architecture of the neural network model\n",
        "class ANNModel(nn.Module):\n",
        "    def __init__(self):\n",
        "        super(ANNModel, self).__init__()\n",
        "        self.linear_relu_stack = nn.Sequential(\n",
        "          nn.Linear(4, 64),\n",
        "          nn.Dropout(0.2),\n",
        "          nn.ReLU(),\n",
        "          nn.Linear(64, 32),\n",
        "          nn.Dropout(0.2),\n",
        "          nn.ReLU(),\n",
        "          nn.Linear(32, 3)\n",
        "        )\n",
        "\n",
        "    def forward(self, x):\n",
        "        return self.linear_relu_stack(x)"
      ],
      "metadata": {
        "id": "tb0ga_Aoa-Wz"
      },
      "execution_count": null,
      "outputs": []
    },
    {
      "cell_type": "code",
      "source": [
        "# Initialize the model\n",
        "model = ANNModel().to(device)\n",
        "\n",
        "# Define loss function, optimizer, and learning rate scheduler\n",
        "loss_fn = nn.CrossEntropyLoss()\n",
        "optimizer = optim.Adam(model.parameters(), lr = 0.001)\n",
        "scheduler = optim.lr_scheduler.StepLR(optimizer, step_size=5, gamma=0.1)"
      ],
      "metadata": {
        "id": "YsUJNwQHftCG"
      },
      "execution_count": null,
      "outputs": []
    },
    {
      "cell_type": "code",
      "source": [
        "# Display the model architecture\n",
        "model"
      ],
      "metadata": {
        "colab": {
          "base_uri": "https://localhost:8080/"
        },
        "id": "8jzEbHhKfti7",
        "outputId": "851afab1-3ab1-4ff9-a265-716361ed4198"
      },
      "execution_count": null,
      "outputs": [
        {
          "output_type": "execute_result",
          "data": {
            "text/plain": [
              "ANNModel(\n",
              "  (linear_relu_stack): Sequential(\n",
              "    (0): Linear(in_features=4, out_features=64, bias=True)\n",
              "    (1): Dropout(p=0.2, inplace=False)\n",
              "    (2): ReLU()\n",
              "    (3): Linear(in_features=64, out_features=32, bias=True)\n",
              "    (4): Dropout(p=0.2, inplace=False)\n",
              "    (5): ReLU()\n",
              "    (6): Linear(in_features=32, out_features=3, bias=True)\n",
              "  )\n",
              ")"
            ]
          },
          "metadata": {},
          "execution_count": 274
        }
      ]
    },
    {
      "cell_type": "code",
      "source": [
        "summary(model, input_size=(1, 4))"
      ],
      "metadata": {
        "colab": {
          "base_uri": "https://localhost:8080/"
        },
        "id": "e9Z9ABM299sV",
        "outputId": "f0171395-51c8-4400-8e30-0b8606fcb79a"
      },
      "execution_count": null,
      "outputs": [
        {
          "output_type": "stream",
          "name": "stdout",
          "text": [
            "----------------------------------------------------------------\n",
            "        Layer (type)               Output Shape         Param #\n",
            "================================================================\n",
            "            Linear-1                [-1, 1, 64]             320\n",
            "           Dropout-2                [-1, 1, 64]               0\n",
            "              ReLU-3                [-1, 1, 64]               0\n",
            "            Linear-4                [-1, 1, 32]           2,080\n",
            "           Dropout-5                [-1, 1, 32]               0\n",
            "              ReLU-6                [-1, 1, 32]               0\n",
            "            Linear-7                 [-1, 1, 3]              99\n",
            "================================================================\n",
            "Total params: 2,499\n",
            "Trainable params: 2,499\n",
            "Non-trainable params: 0\n",
            "----------------------------------------------------------------\n",
            "Input size (MB): 0.00\n",
            "Forward/backward pass size (MB): 0.00\n",
            "Params size (MB): 0.01\n",
            "Estimated Total Size (MB): 0.01\n",
            "----------------------------------------------------------------\n"
          ]
        }
      ]
    },
    {
      "cell_type": "markdown",
      "source": [
        "##Model-Training"
      ],
      "metadata": {
        "id": "8EB5w6V99brm"
      }
    },
    {
      "cell_type": "code",
      "source": [
        "# Set random seeds for reproducibility\n",
        "torch.manual_seed(42)\n",
        "if device == \"cuda\":\n",
        "    torch.cuda.manual_seed(42)"
      ],
      "metadata": {
        "id": "Y8JARNBZ76X7"
      },
      "execution_count": null,
      "outputs": []
    },
    {
      "cell_type": "code",
      "source": [
        "import torch\n",
        "from torch.utils.data import DataLoader\n",
        "\n",
        "class DeviceDataLoader:\n",
        "    def __init__(self, data_loader: DataLoader, device: torch.device):\n",
        "        self.data_loader = data_loader\n",
        "        self.device = device\n",
        "\n",
        "    def __iter__(self):\n",
        "        self.data_loader_iter = iter(self.data_loader)\n",
        "        return self\n",
        "\n",
        "    def __next__(self):\n",
        "        try:\n",
        "            X_batch, y_batch = next(self.data_loader_iter)\n",
        "        except StopIteration:\n",
        "            raise StopIteration\n",
        "        return X_batch.to(self.device).float(), y_batch.to(self.device).long()\n",
        "\n",
        "    def __len__(self):\n",
        "        return len(self.data_loader)\n"
      ],
      "metadata": {
        "id": "AgepO_ecYnH1"
      },
      "execution_count": null,
      "outputs": []
    },
    {
      "cell_type": "code",
      "source": [
        "train_loader = DeviceDataLoader(train_loader, device)\n",
        "val_loader = DeviceDataLoader(val_loader, device)"
      ],
      "metadata": {
        "id": "BRhm8CRtUANn"
      },
      "execution_count": null,
      "outputs": []
    },
    {
      "cell_type": "code",
      "source": [
        "# Training loop\n",
        "train_losses = []\n",
        "val_losses = []\n",
        "train_accuracies = []\n",
        "val_accuracies = []\n",
        "\n",
        "early_stopping = EarlyStopping(patience=4, verbose=True)\n",
        "\n",
        "epochs = 100\n",
        "for epoch in range(epochs):\n",
        "  model.train()\n",
        "  running_loss = 0.0\n",
        "  train_acc = torchmetrics.Accuracy(task=\"multiclass\", num_classes=3).to(device)  # Initialize train accuracy\n",
        "\n",
        "  for X_batch, y_batch in train_loader:\n",
        "    y_pred = model(X_batch)\n",
        "\n",
        "    loss = loss_fn(y_pred, y_batch)\n",
        "    running_loss += loss.item()\n",
        "\n",
        "    optimizer.zero_grad()\n",
        "    loss.backward()\n",
        "    optimizer.step()\n",
        "\n",
        "    train_acc.update(y_pred, y_batch)\n",
        "\n",
        "  train_losses.append(running_loss / len(train_loader))\n",
        "  train_accuracies.append(train_acc.compute().item())\n",
        "\n",
        "  model.eval()\n",
        "  lossu = 0.0\n",
        "  val_acc = torchmetrics.Accuracy(task=\"multiclass\", num_classes=3).to(device)\n",
        "\n",
        "  with torch.inference_mode():\n",
        "    for X_val, y_val in val_loader:\n",
        "      y_val_pred = model(X_val)\n",
        "      loss = loss_fn(y_val_pred, y_val)\n",
        "      lossu += loss.item()\n",
        "\n",
        "      val_acc.update(y_val_pred, y_val)\n",
        "\n",
        "  val_losses.append(lossu / len(val_loader))\n",
        "  val_accuracies.append(val_acc.compute().item())\n",
        "\n",
        "  if epoch % 5 == 0:\n",
        "    print(f\"Epoch: {epoch}, Loss: {train_losses[-1]}, Val Loss: {val_losses[-1]}, Train Acc: {train_accuracies[-1]}, Val Acc: {val_accuracies[-1]}\")\n",
        "\n",
        "  # scheduler.step()\n",
        "\n",
        "  early_stopping(val_losses[-1])\n",
        "  if early_stopping.early_stop:\n",
        "    print(\"Early stopping\")\n",
        "    break"
      ],
      "metadata": {
        "id": "zYPb8uHEWSMM",
        "colab": {
          "base_uri": "https://localhost:8080/"
        },
        "outputId": "7b028357-6c48-4260-e62f-65f97be7c7f8"
      },
      "execution_count": null,
      "outputs": [
        {
          "output_type": "stream",
          "name": "stdout",
          "text": [
            "Epoch: 0, Loss: 1.0344475507736206, Val Loss: 1.0102698802947998, Train Acc: 0.5699999928474426, Val Acc: 0.699999988079071\n",
            "Epoch: 5, Loss: 0.6478406105722699, Val Loss: 0.8002412021160126, Train Acc: 0.8100000023841858, Val Acc: 0.699999988079071\n",
            "EarlyStopping counter: 1 out of 4\n",
            "Epoch: 10, Loss: 0.42587470156805857, Val Loss: 0.5237928330898285, Train Acc: 0.8500000238418579, Val Acc: 0.75\n",
            "EarlyStopping counter: 1 out of 4\n",
            "EarlyStopping counter: 2 out of 4\n",
            "Epoch: 15, Loss: 0.25099251818444046, Val Loss: 0.37071700394153595, Train Acc: 0.9399999976158142, Val Acc: 0.8999999761581421\n",
            "EarlyStopping counter: 1 out of 4\n",
            "EarlyStopping counter: 2 out of 4\n",
            "EarlyStopping counter: 1 out of 4\n",
            "Epoch: 20, Loss: 0.21692206391266414, Val Loss: 0.17272771522402763, Train Acc: 0.9399999976158142, Val Acc: 0.949999988079071\n",
            "EarlyStopping counter: 1 out of 4\n",
            "EarlyStopping counter: 1 out of 4\n",
            "EarlyStopping counter: 2 out of 4\n",
            "Epoch: 25, Loss: 0.1635019342814173, Val Loss: 0.12658839859068394, Train Acc: 0.949999988079071, Val Acc: 0.949999988079071\n",
            "EarlyStopping counter: 1 out of 4\n",
            "EarlyStopping counter: 1 out of 4\n",
            "Epoch: 30, Loss: 0.1338450482913426, Val Loss: 0.11071193031966686, Train Acc: 0.9599999785423279, Val Acc: 0.949999988079071\n",
            "EarlyStopping counter: 2 out of 4\n",
            "EarlyStopping counter: 3 out of 4\n",
            "EarlyStopping counter: 1 out of 4\n",
            "Epoch: 35, Loss: 0.09445137903094292, Val Loss: 0.09917262196540833, Train Acc: 0.9900000095367432, Val Acc: 0.949999988079071\n",
            "EarlyStopping counter: 1 out of 4\n",
            "EarlyStopping counter: 2 out of 4\n",
            "EarlyStopping counter: 3 out of 4\n",
            "EarlyStopping counter: 4 out of 4\n",
            "Early stopping\n"
          ]
        }
      ]
    },
    {
      "cell_type": "code",
      "source": [
        "fig, (ax1, ax2) = plt.subplots(ncols=2, figsize=(12, 5))\n",
        "\n",
        "# Plot the loss curves\n",
        "ax1.plot(range(1, len(train_losses)+1), train_losses, label='Train Loss', color='blue')\n",
        "ax1.plot(range(1, len(val_losses)+1), val_losses, label='Validation Loss', color='orange')\n",
        "ax1.set_xlabel('Epochs')\n",
        "ax1.set_ylabel('Loss')\n",
        "ax1.set_title('Training and Validation Loss')\n",
        "ax1.legend(loc='upper right')\n",
        "\n",
        "# Plot the accuracy curves\n",
        "ax2.plot(range(1, len(train_accuracies)+1), train_accuracies, label='Train Accuracy', color='green')\n",
        "ax2.plot(range(1, len(val_accuracies)+1), val_accuracies, label='Validation Accuracy', color='red')\n",
        "ax2.set_xlabel('Epochs')\n",
        "ax2.set_ylabel('Accuracy')\n",
        "ax2.set_title('Training and Validation Accuracy')\n",
        "ax2.legend(loc='lower right')\n",
        "\n",
        "plt.tight_layout()\n",
        "plt.show()"
      ],
      "metadata": {
        "id": "jlhMzcZIcPCm",
        "colab": {
          "base_uri": "https://localhost:8080/",
          "height": 507
        },
        "outputId": "b08e7532-f934-4652-da1a-66c1f983f98c"
      },
      "execution_count": null,
      "outputs": [
        {
          "output_type": "display_data",
          "data": {
            "text/plain": [
              "<Figure size 1200x500 with 2 Axes>"
            ],
            "image/png": "[encoded data removed]"
          },
          "metadata": {}
        }
      ]
    },
    {
      "cell_type": "markdown",
      "source": [
        "* Hence It is always to the best option\n",
        "* Considering the train data is mearly 120\n",
        "* neural networks are not good when data is low\n",
        "* rather conventional ml algorithms work much better"
      ],
      "metadata": {
        "id": "x-kz5haJKkuH"
      }
    },
    {
      "cell_type": "markdown",
      "source": [
        "##Model-Evaluation"
      ],
      "metadata": {
        "id": "VoCQp7zO9gzT"
      }
    },
    {
      "cell_type": "code",
      "source": [
        "test_loader = DeviceDataLoader(test_loader, device)"
      ],
      "metadata": {
        "id": "3JCP3UFdbSFT"
      },
      "execution_count": null,
      "outputs": []
    },
    {
      "cell_type": "code",
      "source": [
        "model.eval()\n",
        "lossu = 0.0\n",
        "test_acc = torchmetrics.Accuracy(task=\"multiclass\", num_classes=3).to(device)\n",
        "\n",
        "with torch.inference_mode():\n",
        "  for X_test, y_test in test_loader:\n",
        "    y_test_pred = model(X_test)\n",
        "    loss = loss_fn(y_test_pred, y_test)\n",
        "    lossu += loss.item()\n",
        "    test_acc.update(y_test_pred, y_test)\n",
        "\n",
        "print(f\"Test Loss: {lossu / len(test_loader)}\")\n",
        "print(f\"Test Accuracy: {test_acc.compute().item()}\")"
      ],
      "metadata": {
        "id": "DjVP7JxZC2O3",
        "colab": {
          "base_uri": "https://localhost:8080/"
        },
        "outputId": "44dea9e8-f1b8-4a49-d8c5-fcd544b1aef6"
      },
      "execution_count": null,
      "outputs": [
        {
          "output_type": "stream",
          "name": "stdout",
          "text": [
            "Test Loss: 0.05513891391456127\n",
            "Test Accuracy: 1.0\n"
          ]
        }
      ]
    },
    {
      "cell_type": "code",
      "source": [
        "model.eval()\n",
        "y_test_all = []\n",
        "y_test_pred_all = []\n",
        "\n",
        "with torch.inference_mode():\n",
        "  for X_test, y_test in test_loader:\n",
        "    y_test_all.append(y_test)\n",
        "    y_test_pred = model(X_test)\n",
        "    y_test_pred = torch.softmax(y_test_pred, dim=1)\n",
        "    y_test_pred_all.append(y_test_pred)\n",
        "\n",
        "y_test_all = torch.cat(y_test_all).cpu().numpy()\n",
        "y_test_pred_all = torch.cat(y_test_pred_all).cpu().numpy()"
      ],
      "metadata": {
        "id": "UfZlNoI3dIvs"
      },
      "execution_count": null,
      "outputs": []
    },
    {
      "cell_type": "code",
      "source": [
        "y_test_pred_all_ = []\n",
        "for i in y_test_pred_all:\n",
        "  y_test_pred_all_.append(np.argmax(i))"
      ],
      "metadata": {
        "id": "clI9ceEFe-fx"
      },
      "execution_count": null,
      "outputs": []
    },
    {
      "cell_type": "code",
      "source": [
        "# Generate the classification report\n",
        "report = classification_report(y_test_all, y_test_pred_all_)\n",
        "print(\"Classification Report:\\n\", report)"
      ],
      "metadata": {
        "id": "yVXWoTPGempX",
        "colab": {
          "base_uri": "https://localhost:8080/"
        },
        "outputId": "0481b6c0-2ed5-493a-a81a-57a435c4e26a"
      },
      "execution_count": null,
      "outputs": [
        {
          "output_type": "stream",
          "name": "stdout",
          "text": [
            "Classification Report:\n",
            "               precision    recall  f1-score   support\n",
            "\n",
            "           0       1.00      1.00      1.00        10\n",
            "           1       1.00      1.00      1.00         9\n",
            "           2       1.00      1.00      1.00        11\n",
            "\n",
            "    accuracy                           1.00        30\n",
            "   macro avg       1.00      1.00      1.00        30\n",
            "weighted avg       1.00      1.00      1.00        30\n",
            "\n"
          ]
        }
      ]
    },
    {
      "cell_type": "code",
      "source": [
        "# Generate the confusion matrix\n",
        "conf_matrix = confusion_matrix(y_test_all, y_test_pred_all_)\n",
        "cm_display = ConfusionMatrixDisplay(confusion_matrix = conf_matrix)\n",
        "cm_display.plot()\n",
        "plt.show()"
      ],
      "metadata": {
        "id": "ZwYuDTNOeoWB",
        "colab": {
          "base_uri": "https://localhost:8080/",
          "height": 449
        },
        "outputId": "73417c4f-2a6d-4676-e5b7-e18f505d898b"
      },
      "execution_count": null,
      "outputs": [
        {
          "output_type": "display_data",
          "data": {
            "text/plain": [
              "<Figure size 640x480 with 2 Axes>"
            ],
            "image/png": "[encoded data removed]"
          },
          "metadata": {}
        }
      ]
    }
  ]
}